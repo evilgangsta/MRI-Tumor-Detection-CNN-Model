{
 "cells": [
  {
   "cell_type": "code",
   "execution_count": 1,
   "metadata": {},
   "outputs": [],
   "source": [
    "import datetime\n",
    "\n",
    "from util.util import importstr\n",
    "from util.logconf import logging\n",
    "log = logging.getLogger('nb')"
   ]
  },
  {
   "cell_type": "code",
   "execution_count": 2,
   "metadata": {},
   "outputs": [],
   "source": [
    "def run(app, *argv):\n",
    "    argv = list(argv)\n",
    "    argv.insert(0, '--num-workers=6')  # <1>\n",
    "    log.info(\"Running: {}({!r}).main()\".format(app, argv))\n",
    "    \n",
    "    app_cls = importstr(*app.rsplit('.', 1))  # <2>\n",
    "    app_cls(argv).main()\n",
    "    \n",
    "    log.info(\"Finished: {}.{!r}).main()\".format(app, argv))"
   ]
  },
  {
   "cell_type": "code",
   "execution_count": 3,
   "metadata": {},
   "outputs": [],
   "source": [
    "import os\n",
    "import shutil\n",
    "\n",
    "# clean up any old data that might be around.\n",
    "# We don't call this by default because it's destructive, \n",
    "# and would waste a lot of time if it ran when nothing \n",
    "# on the application side had changed.\n",
    "def cleanCache():\n",
    "    shutil.rmtree('data-unversioned/cache')\n",
    "    os.mkdir('data-unversioned/cache')\n",
    "\n",
    "# cleanCache()"
   ]
  },
  {
   "cell_type": "code",
   "execution_count": 4,
   "metadata": {},
   "outputs": [],
   "source": [
    "training_epochs = 20\n",
    "experiment_epochs = 10\n",
    "final_epochs = 50\n",
    "\n",
    "training_epochs = 2\n",
    "experiment_epochs = 2\n",
    "final_epochs = 5\n",
    "seg_epochs = 10"
   ]
  },
  {
   "cell_type": "code",
   "execution_count": 5,
   "metadata": {},
   "outputs": [
    {
     "name": "stderr",
     "output_type": "stream",
     "text": [
      "2024-07-12 09:21:45,600 INFO     pid:748 nb:004:run Running: prepcache.LunaPrepCacheApp(['--num-workers=6']).main()\n",
      "2024-07-12 09:22:18,269 INFO     pid:748 prepcache:043:main Starting LunaPrepCacheApp, Namespace(batch_size=1024, num_workers=6)\n",
      "2024-07-12 09:22:21,937 INFO     pid:748 dsets:267:__init__ <dsets.LunaDataset object at 0x0000018E1BA76280>: 275358 training samples, 274637 neg, 721 pos, unbalanced ratio\n",
      "2024-07-12 09:22:21,938 WARNING  pid:748 util.util:219:enumerateWithEstimate Stuffing cache ----/269, starting\n",
      "2024-07-12 14:57:23,377 INFO     pid:748 util.util:236:enumerateWithEstimate Stuffing cache   64/269, done at 2024-07-13 08:40:04, 22:50:01\n",
      "2024-07-13 08:55:49,086 INFO     pid:748 util.util:236:enumerateWithEstimate Stuffing cache  256/269, done at 2024-07-13 10:02:04, 1 day, 0:12:01\n",
      "2024-07-13 09:54:37,723 WARNING  pid:748 util.util:249:enumerateWithEstimate Stuffing cache ----/269, done at 2024-07-13 09:54:37\n",
      "2024-07-13 09:54:37,907 INFO     pid:748 nb:009:run Finished: prepcache.LunaPrepCacheApp.['--num-workers=6']).main()\n"
     ]
    }
   ],
   "source": [
    "run('prepcache.LunaPrepCacheApp')"
   ]
  },
  {
   "cell_type": "code",
   "execution_count": 6,
   "metadata": {},
   "outputs": [
    {
     "name": "stderr",
     "output_type": "stream",
     "text": [
      "2024-07-06 13:16:31,247 INFO     pid:8856 nb:004:run Running: training.LunaTrainingApp(['--num-workers=6', '--epochs=1']).main()\n",
      "2024-07-06 13:16:31,871 INFO     pid:8856 training:127:initModel Using CUDA; 1 devices.\n",
      "2024-07-06 13:16:33,950 INFO     pid:8856 training:188:main Starting LunaTrainingApp, Namespace(augment_flip=False, augment_noise=False, augment_offset=False, augment_rotate=False, augment_scale=False, augmented=False, balanced=False, batch_size=32, comment='dlwpt', epochs=1, num_workers=6, tb_prefix='p2ch12')\n",
      "2024-07-06 13:16:34,037 INFO     pid:8856 dsets:267:__init__ <dsets.LunaDataset object at 0x000001A7E8A311F0>: 99128 training samples, 98879 neg, 249 pos, unbalanced ratio\n",
      "2024-07-06 13:16:34,046 INFO     pid:8856 dsets:267:__init__ <dsets.LunaDataset object at 0x000001A7E8A3B310>: 11015 validation samples, 10987 neg, 28 pos, unbalanced ratio\n",
      "2024-07-06 13:16:34,047 INFO     pid:8856 training:195:main Epoch 1 of 1, 3098/345 batches of size 32*1\n",
      "2024-07-06 13:16:34,131 WARNING  pid:8856 util.util:219:enumerateWithEstimate E1 Training ----/3098, starting\n",
      "2024-07-06 13:19:26,569 INFO     pid:8856 util.util:236:enumerateWithEstimate E1 Training   64/3098, done at 2024-07-06 14:45:28, 1:27:42\n",
      "2024-07-06 13:23:56,991 INFO     pid:8856 util.util:236:enumerateWithEstimate E1 Training  256/3098, done at 2024-07-06 14:33:54, 1:16:08\n",
      "2024-07-06 13:40:40,683 INFO     pid:8856 util.util:236:enumerateWithEstimate E1 Training 1024/3098, done at 2024-07-06 14:27:16, 1:09:30\n",
      "2024-07-06 14:21:37,907 WARNING  pid:8856 util.util:249:enumerateWithEstimate E1 Training ----/3098, done at 2024-07-06 14:21:37\n",
      "2024-07-06 14:21:38,424 INFO     pid:8856 training:304:logMetrics E1 LunaTrainingApp\n",
      "e:\\deeplearningwithpytorch\\book_project\\training.py:339: RuntimeWarning: invalid value encountered in scalar divide\n",
      "  2 * (precision * recall) / (precision + recall)\n",
      "2024-07-06 14:21:38,566 INFO     pid:8856 training:341:logMetrics E1 trn      0.0214 loss,  99.7% correct, 0.0000 precision, 0.0000 recall, nan f1 score\n",
      "2024-07-06 14:21:38,566 INFO     pid:8856 training:353:logMetrics E1 trn_neg  0.0026 loss, 100.0% correct (98872 of 98879)\n",
      "2024-07-06 14:21:38,567 INFO     pid:8856 training:364:logMetrics E1 trn_pos  7.4537 loss,   0.0% correct (0 of 249)\n",
      "2024-07-06 14:21:38,614 WARNING  pid:8856 util.util:219:enumerateWithEstimate E1 Validation  ----/345, starting\n",
      "2024-07-06 14:24:24,604 INFO     pid:8856 util.util:236:enumerateWithEstimate E1 Validation    64/345, done at 2024-07-06 14:31:21, 0:08:24\n",
      "2024-07-06 14:28:35,952 INFO     pid:8856 util.util:236:enumerateWithEstimate E1 Validation   256/345, done at 2024-07-06 14:30:34, 0:07:38\n",
      "2024-07-06 14:30:26,746 WARNING  pid:8856 util.util:249:enumerateWithEstimate E1 Validation  ----/345, done at 2024-07-06 14:30:26\n",
      "2024-07-06 14:30:26,747 INFO     pid:8856 training:304:logMetrics E1 LunaTrainingApp\n",
      "e:\\deeplearningwithpytorch\\book_project\\training.py:334: RuntimeWarning: invalid value encountered in divide\n",
      "  truePos_count / np.float32(truePos_count + falsePos_count)\n",
      "2024-07-06 14:30:26,749 INFO     pid:8856 training:341:logMetrics E1 val      0.0185 loss,  99.7% correct, nan precision, 0.0000 recall, nan f1 score\n",
      "2024-07-06 14:30:26,749 INFO     pid:8856 training:353:logMetrics E1 val_neg  0.0010 loss, 100.0% correct (10987 of 10987)\n",
      "2024-07-06 14:30:26,750 INFO     pid:8856 training:364:logMetrics E1 val_pos  6.8856 loss,   0.0% correct (0 of 28)\n",
      "2024-07-06 14:30:26,916 INFO     pid:8856 nb:009:run Finished: training.LunaTrainingApp.['--num-workers=6', '--epochs=1']).main()\n"
     ]
    }
   ],
   "source": [
    "run('training.LunaTrainingApp', '--epochs=1')"
   ]
  },
  {
   "cell_type": "code",
   "execution_count": 10,
   "metadata": {},
   "outputs": [
    {
     "name": "stderr",
     "output_type": "stream",
     "text": [
      "2024-07-06 15:33:58,824 INFO     pid:8856 nb:004:run Running: training.LunaTrainingApp(['--num-workers=6', '--epochs=10']).main()\n",
      "2024-07-06 15:33:58,833 INFO     pid:8856 training:127:initModel Using CUDA; 1 devices.\n",
      "2024-07-06 15:33:58,845 INFO     pid:8856 training:188:main Starting LunaTrainingApp, Namespace(augment_flip=False, augment_noise=False, augment_offset=False, augment_rotate=False, augment_scale=False, augmented=False, balanced=False, batch_size=32, comment='dlwpt', epochs=10, num_workers=6, tb_prefix='p2ch12')\n",
      "2024-07-06 15:33:58,930 INFO     pid:8856 dsets:267:__init__ <dsets.LunaDataset object at 0x000001A7924566D0>: 99128 training samples, 98879 neg, 249 pos, unbalanced ratio\n",
      "2024-07-06 15:33:58,941 INFO     pid:8856 dsets:267:__init__ <dsets.LunaDataset object at 0x000001A793D48F10>: 11015 validation samples, 10987 neg, 28 pos, unbalanced ratio\n",
      "2024-07-06 15:33:58,941 INFO     pid:8856 training:195:main Epoch 1 of 10, 3098/345 batches of size 32*1\n",
      "2024-07-06 15:33:58,943 WARNING  pid:8856 util.util:219:enumerateWithEstimate E1 Training ----/3098, starting\n",
      "2024-07-06 15:37:41,041 INFO     pid:8856 util.util:236:enumerateWithEstimate E1 Training   64/3098, done at 2024-07-06 17:10:46, 1:34:53\n",
      "2024-07-06 15:43:07,849 INFO     pid:8856 util.util:236:enumerateWithEstimate E1 Training  256/3098, done at 2024-07-06 17:05:16, 1:29:24\n",
      "2024-07-06 16:01:22,453 INFO     pid:8856 util.util:236:enumerateWithEstimate E1 Training 1024/3098, done at 2024-07-06 16:53:15, 1:17:22\n",
      "2024-07-06 16:44:02,192 WARNING  pid:8856 util.util:249:enumerateWithEstimate E1 Training ----/3098, done at 2024-07-06 16:44:02\n",
      "2024-07-06 16:44:02,578 INFO     pid:8856 training:304:logMetrics E1 LunaTrainingApp\n",
      "2024-07-06 16:44:02,583 INFO     pid:8856 training:341:logMetrics E1 trn      0.0194 loss,  99.7% correct, 0.0000 precision, 0.0000 recall, nan f1 score\n",
      "2024-07-06 16:44:02,584 INFO     pid:8856 training:353:logMetrics E1 trn_neg  0.0027 loss, 100.0% correct (98864 of 98879)\n",
      "2024-07-06 16:44:02,585 INFO     pid:8856 training:364:logMetrics E1 trn_pos  6.6586 loss,   0.0% correct (0 of 249)\n",
      "2024-07-06 16:44:02,602 WARNING  pid:8856 util.util:219:enumerateWithEstimate E1 Validation  ----/345, starting\n",
      "2024-07-06 16:46:51,372 INFO     pid:8856 util.util:236:enumerateWithEstimate E1 Validation    64/345, done at 2024-07-06 16:53:37, 0:08:12\n",
      "2024-07-06 16:50:51,863 INFO     pid:8856 util.util:236:enumerateWithEstimate E1 Validation   256/345, done at 2024-07-06 16:52:46, 0:07:20\n",
      "2024-07-06 16:52:37,790 WARNING  pid:8856 util.util:249:enumerateWithEstimate E1 Validation  ----/345, done at 2024-07-06 16:52:37\n",
      "2024-07-06 16:52:37,793 INFO     pid:8856 training:304:logMetrics E1 LunaTrainingApp\n",
      "2024-07-06 16:52:37,794 INFO     pid:8856 training:341:logMetrics E1 val      0.0178 loss,  99.7% correct, nan precision, 0.0000 recall, nan f1 score\n",
      "2024-07-06 16:52:37,795 INFO     pid:8856 training:353:logMetrics E1 val_neg  0.0031 loss, 100.0% correct (10987 of 10987)\n",
      "2024-07-06 16:52:37,795 INFO     pid:8856 training:364:logMetrics E1 val_pos  5.7725 loss,   0.0% correct (0 of 28)\n",
      "2024-07-06 16:52:37,800 INFO     pid:8856 training:195:main Epoch 2 of 10, 3098/345 batches of size 32*1\n",
      "2024-07-06 16:52:37,802 WARNING  pid:8856 util.util:219:enumerateWithEstimate E2 Training ----/3098, starting\n",
      "2024-07-06 16:55:20,361 INFO     pid:8856 util.util:236:enumerateWithEstimate E2 Training   64/3098, done at 2024-07-06 18:03:33, 1:09:32\n",
      "2024-07-06 16:59:26,768 INFO     pid:8856 util.util:236:enumerateWithEstimate E2 Training  256/3098, done at 2024-07-06 18:00:57, 1:06:56\n",
      "2024-07-06 17:15:03,784 INFO     pid:8856 util.util:236:enumerateWithEstimate E2 Training 1024/3098, done at 2024-07-06 17:57:53, 1:03:52\n",
      "2024-07-06 17:56:06,906 WARNING  pid:8856 util.util:249:enumerateWithEstimate E2 Training ----/3098, done at 2024-07-06 17:56:06\n",
      "2024-07-06 17:56:07,239 INFO     pid:8856 training:304:logMetrics E2 LunaTrainingApp\n",
      "2024-07-06 17:56:07,244 INFO     pid:8856 training:341:logMetrics E2 trn      0.0183 loss,  99.7% correct, nan precision, 0.0000 recall, nan f1 score\n",
      "2024-07-06 17:56:07,244 INFO     pid:8856 training:353:logMetrics E2 trn_neg  0.0025 loss, 100.0% correct (98879 of 98879)\n",
      "2024-07-06 17:56:07,245 INFO     pid:8856 training:364:logMetrics E2 trn_pos  6.2734 loss,   0.0% correct (0 of 249)\n",
      "2024-07-06 17:56:07,308 WARNING  pid:8856 util.util:219:enumerateWithEstimate E2 Validation  ----/345, starting\n",
      "2024-07-06 17:58:39,784 INFO     pid:8856 util.util:236:enumerateWithEstimate E2 Validation    64/345, done at 2024-07-06 18:05:04, 0:07:45\n",
      "2024-07-06 18:02:26,994 INFO     pid:8856 util.util:236:enumerateWithEstimate E2 Validation   256/345, done at 2024-07-06 18:04:15, 0:06:56\n",
      "2024-07-06 18:04:08,579 WARNING  pid:8856 util.util:249:enumerateWithEstimate E2 Validation  ----/345, done at 2024-07-06 18:04:08\n",
      "2024-07-06 18:04:08,580 INFO     pid:8856 training:304:logMetrics E2 LunaTrainingApp\n",
      "2024-07-06 18:04:08,582 INFO     pid:8856 training:341:logMetrics E2 val      0.0177 loss,  99.7% correct, nan precision, 0.0000 recall, nan f1 score\n",
      "2024-07-06 18:04:08,582 INFO     pid:8856 training:353:logMetrics E2 val_neg  0.0026 loss, 100.0% correct (10987 of 10987)\n",
      "2024-07-06 18:04:08,582 INFO     pid:8856 training:364:logMetrics E2 val_pos  5.9653 loss,   0.0% correct (0 of 28)\n",
      "2024-07-06 18:04:08,586 INFO     pid:8856 training:195:main Epoch 3 of 10, 3098/345 batches of size 32*1\n",
      "2024-07-06 18:04:08,587 WARNING  pid:8856 util.util:219:enumerateWithEstimate E3 Training ----/3098, starting\n",
      "2024-07-06 18:06:30,758 INFO     pid:8856 util.util:236:enumerateWithEstimate E3 Training   64/3098, done at 2024-07-06 19:11:08, 1:05:53\n",
      "2024-07-06 18:10:32,790 INFO     pid:8856 util.util:236:enumerateWithEstimate E3 Training  256/3098, done at 2024-07-06 19:10:26, 1:05:10\n",
      "2024-07-06 18:25:30,495 INFO     pid:8856 util.util:236:enumerateWithEstimate E3 Training 1024/3098, done at 2024-07-06 19:06:42, 1:01:27\n",
      "2024-07-06 19:06:16,788 WARNING  pid:8856 util.util:249:enumerateWithEstimate E3 Training ----/3098, done at 2024-07-06 19:06:16\n",
      "2024-07-06 19:06:16,948 INFO     pid:8856 training:304:logMetrics E3 LunaTrainingApp\n",
      "2024-07-06 19:06:16,952 INFO     pid:8856 training:341:logMetrics E3 trn      0.0182 loss,  99.7% correct, nan precision, 0.0000 recall, nan f1 score\n",
      "2024-07-06 19:06:16,953 INFO     pid:8856 training:353:logMetrics E3 trn_neg  0.0025 loss, 100.0% correct (98879 of 98879)\n",
      "2024-07-06 19:06:16,953 INFO     pid:8856 training:364:logMetrics E3 trn_pos  6.2588 loss,   0.0% correct (0 of 249)\n",
      "2024-07-06 19:06:17,026 WARNING  pid:8856 util.util:219:enumerateWithEstimate E3 Validation  ----/345, starting\n",
      "2024-07-06 19:08:29,038 INFO     pid:8856 util.util:236:enumerateWithEstimate E3 Validation    64/345, done at 2024-07-06 19:14:30, 0:07:17\n",
      "2024-07-06 19:12:21,104 INFO     pid:8856 util.util:236:enumerateWithEstimate E3 Validation   256/345, done at 2024-07-06 19:14:09, 0:06:56\n",
      "2024-07-06 19:14:02,177 WARNING  pid:8856 util.util:249:enumerateWithEstimate E3 Validation  ----/345, done at 2024-07-06 19:14:02\n",
      "2024-07-06 19:14:02,179 INFO     pid:8856 training:304:logMetrics E3 LunaTrainingApp\n",
      "2024-07-06 19:14:02,180 INFO     pid:8856 training:341:logMetrics E3 val      0.0177 loss,  99.7% correct, nan precision, 0.0000 recall, nan f1 score\n",
      "2024-07-06 19:14:02,181 INFO     pid:8856 training:353:logMetrics E3 val_neg  0.0022 loss, 100.0% correct (10987 of 10987)\n",
      "2024-07-06 19:14:02,181 INFO     pid:8856 training:364:logMetrics E3 val_pos  6.1132 loss,   0.0% correct (0 of 28)\n",
      "2024-07-06 19:14:02,186 INFO     pid:8856 training:195:main Epoch 4 of 10, 3098/345 batches of size 32*1\n",
      "2024-07-06 19:14:02,187 WARNING  pid:8856 util.util:219:enumerateWithEstimate E4 Training ----/3098, starting\n",
      "2024-07-06 19:16:27,523 INFO     pid:8856 util.util:236:enumerateWithEstimate E4 Training   64/3098, done at 2024-07-06 20:26:10, 1:11:03\n",
      "2024-07-06 19:20:22,457 INFO     pid:8856 util.util:236:enumerateWithEstimate E4 Training  256/3098, done at 2024-07-06 20:20:02, 1:04:56\n",
      "2024-07-06 19:35:45,156 INFO     pid:8856 util.util:236:enumerateWithEstimate E4 Training 1024/3098, done at 2024-07-06 20:17:45, 1:02:39\n",
      "2024-07-06 20:16:29,370 WARNING  pid:8856 util.util:249:enumerateWithEstimate E4 Training ----/3098, done at 2024-07-06 20:16:29\n",
      "2024-07-06 20:16:29,753 INFO     pid:8856 training:304:logMetrics E4 LunaTrainingApp\n",
      "2024-07-06 20:16:29,758 INFO     pid:8856 training:341:logMetrics E4 trn      0.0182 loss,  99.7% correct, nan precision, 0.0000 recall, nan f1 score\n",
      "2024-07-06 20:16:29,759 INFO     pid:8856 training:353:logMetrics E4 trn_neg  0.0025 loss, 100.0% correct (98879 of 98879)\n",
      "2024-07-06 20:16:29,759 INFO     pid:8856 training:364:logMetrics E4 trn_pos  6.2432 loss,   0.0% correct (0 of 249)\n",
      "2024-07-06 20:16:29,908 WARNING  pid:8856 util.util:219:enumerateWithEstimate E4 Validation  ----/345, starting\n",
      "2024-07-06 20:18:47,457 INFO     pid:8856 util.util:236:enumerateWithEstimate E4 Validation    64/345, done at 2024-07-06 20:24:36, 0:07:02\n",
      "2024-07-06 20:22:30,874 INFO     pid:8856 util.util:236:enumerateWithEstimate E4 Validation   256/345, done at 2024-07-06 20:24:15, 0:06:41\n",
      "2024-07-06 20:24:14,302 WARNING  pid:8856 util.util:249:enumerateWithEstimate E4 Validation  ----/345, done at 2024-07-06 20:24:14\n",
      "2024-07-06 20:24:14,304 INFO     pid:8856 training:304:logMetrics E4 LunaTrainingApp\n",
      "2024-07-06 20:24:14,308 INFO     pid:8856 training:341:logMetrics E4 val      0.0178 loss,  99.7% correct, nan precision, 0.0000 recall, nan f1 score\n",
      "2024-07-06 20:24:14,309 INFO     pid:8856 training:353:logMetrics E4 val_neg  0.0020 loss, 100.0% correct (10987 of 10987)\n",
      "2024-07-06 20:24:14,310 INFO     pid:8856 training:364:logMetrics E4 val_pos  6.2193 loss,   0.0% correct (0 of 28)\n",
      "2024-07-06 20:24:14,316 INFO     pid:8856 training:195:main Epoch 5 of 10, 3098/345 batches of size 32*1\n",
      "2024-07-06 20:24:14,317 WARNING  pid:8856 util.util:219:enumerateWithEstimate E5 Training ----/3098, starting\n",
      "2024-07-06 20:26:36,218 INFO     pid:8856 util.util:236:enumerateWithEstimate E5 Training   64/3098, done at 2024-07-06 21:36:30, 1:11:16\n",
      "2024-07-06 20:30:25,775 INFO     pid:8856 util.util:236:enumerateWithEstimate E5 Training  256/3098, done at 2024-07-06 21:29:07, 1:03:53\n",
      "2024-07-06 20:45:58,240 INFO     pid:8856 util.util:236:enumerateWithEstimate E5 Training 1024/3098, done at 2024-07-06 21:28:08, 1:02:53\n",
      "2024-07-06 21:25:58,308 WARNING  pid:8856 util.util:249:enumerateWithEstimate E5 Training ----/3098, done at 2024-07-06 21:25:58\n",
      "2024-07-06 21:25:58,693 INFO     pid:8856 training:304:logMetrics E5 LunaTrainingApp\n",
      "2024-07-06 21:25:58,699 INFO     pid:8856 training:341:logMetrics E5 trn      0.0182 loss,  99.7% correct, nan precision, 0.0000 recall, nan f1 score\n",
      "2024-07-06 21:25:58,700 INFO     pid:8856 training:353:logMetrics E5 trn_neg  0.0025 loss, 100.0% correct (98879 of 98879)\n",
      "2024-07-06 21:25:58,701 INFO     pid:8856 training:364:logMetrics E5 trn_pos  6.2246 loss,   0.0% correct (0 of 249)\n",
      "2024-07-06 21:25:59,157 WARNING  pid:8856 util.util:219:enumerateWithEstimate E5 Validation  ----/345, starting\n",
      "2024-07-06 21:28:20,221 INFO     pid:8856 util.util:236:enumerateWithEstimate E5 Validation    64/345, done at 2024-07-06 21:33:57, 0:06:48\n",
      "2024-07-06 21:31:53,708 INFO     pid:8856 util.util:236:enumerateWithEstimate E5 Validation   256/345, done at 2024-07-06 21:33:33, 0:06:24\n",
      "2024-07-06 21:33:28,915 WARNING  pid:8856 util.util:249:enumerateWithEstimate E5 Validation  ----/345, done at 2024-07-06 21:33:28\n",
      "2024-07-06 21:33:28,916 INFO     pid:8856 training:304:logMetrics E5 LunaTrainingApp\n",
      "2024-07-06 21:33:28,918 INFO     pid:8856 training:341:logMetrics E5 val      0.0178 loss,  99.7% correct, nan precision, 0.0000 recall, nan f1 score\n",
      "2024-07-06 21:33:28,918 INFO     pid:8856 training:353:logMetrics E5 val_neg  0.0019 loss, 100.0% correct (10987 of 10987)\n",
      "2024-07-06 21:33:28,919 INFO     pid:8856 training:364:logMetrics E5 val_pos  6.2711 loss,   0.0% correct (0 of 28)\n",
      "2024-07-06 21:33:28,923 INFO     pid:8856 training:195:main Epoch 6 of 10, 3098/345 batches of size 32*1\n",
      "2024-07-06 21:33:28,924 WARNING  pid:8856 util.util:219:enumerateWithEstimate E6 Training ----/3098, starting\n",
      "2024-07-06 21:35:38,681 INFO     pid:8856 util.util:236:enumerateWithEstimate E6 Training   64/3098, done at 2024-07-06 22:35:53, 1:01:25\n",
      "2024-07-06 21:39:18,409 INFO     pid:8856 util.util:236:enumerateWithEstimate E6 Training  256/3098, done at 2024-07-06 22:34:01, 0:59:32\n",
      "2024-07-06 21:53:56,264 INFO     pid:8856 util.util:236:enumerateWithEstimate E6 Training 1024/3098, done at 2024-07-06 22:33:32, 0:59:03\n",
      "2024-07-06 22:33:34,283 WARNING  pid:8856 util.util:249:enumerateWithEstimate E6 Training ----/3098, done at 2024-07-06 22:33:34\n",
      "2024-07-06 22:33:34,668 INFO     pid:8856 training:304:logMetrics E6 LunaTrainingApp\n",
      "2024-07-06 22:33:34,674 INFO     pid:8856 training:341:logMetrics E6 trn      0.0181 loss,  99.7% correct, nan precision, 0.0000 recall, nan f1 score\n",
      "2024-07-06 22:33:34,675 INFO     pid:8856 training:353:logMetrics E6 trn_neg  0.0025 loss, 100.0% correct (98879 of 98879)\n",
      "2024-07-06 22:33:34,675 INFO     pid:8856 training:364:logMetrics E6 trn_pos  6.2039 loss,   0.0% correct (0 of 249)\n",
      "2024-07-06 22:33:34,688 WARNING  pid:8856 util.util:219:enumerateWithEstimate E6 Validation  ----/345, starting\n",
      "2024-07-06 22:36:01,647 INFO     pid:8856 util.util:236:enumerateWithEstimate E6 Validation    64/345, done at 2024-07-06 22:42:07, 0:07:22\n",
      "2024-07-06 22:39:45,210 INFO     pid:8856 util.util:236:enumerateWithEstimate E6 Validation   256/345, done at 2024-07-06 22:41:30, 0:06:45\n",
      "2024-07-06 22:41:37,537 WARNING  pid:8856 util.util:249:enumerateWithEstimate E6 Validation  ----/345, done at 2024-07-06 22:41:37\n",
      "2024-07-06 22:41:37,539 INFO     pid:8856 training:304:logMetrics E6 LunaTrainingApp\n",
      "2024-07-06 22:41:37,541 INFO     pid:8856 training:341:logMetrics E6 val      0.0178 loss,  99.7% correct, nan precision, 0.0000 recall, nan f1 score\n",
      "2024-07-06 22:41:37,541 INFO     pid:8856 training:353:logMetrics E6 val_neg  0.0019 loss, 100.0% correct (10987 of 10987)\n",
      "2024-07-06 22:41:37,542 INFO     pid:8856 training:364:logMetrics E6 val_pos  6.2723 loss,   0.0% correct (0 of 28)\n",
      "2024-07-06 22:41:37,549 INFO     pid:8856 training:195:main Epoch 7 of 10, 3098/345 batches of size 32*1\n",
      "2024-07-06 22:41:37,550 WARNING  pid:8856 util.util:219:enumerateWithEstimate E7 Training ----/3098, starting\n",
      "2024-07-06 22:44:07,245 INFO     pid:8856 util.util:236:enumerateWithEstimate E7 Training   64/3098, done at 2024-07-06 23:54:56, 1:12:11\n",
      "2024-07-06 22:48:02,794 INFO     pid:8856 util.util:236:enumerateWithEstimate E7 Training  256/3098, done at 2024-07-06 23:48:04, 1:05:19\n",
      "2024-07-06 23:03:55,074 INFO     pid:8856 util.util:236:enumerateWithEstimate E7 Training 1024/3098, done at 2024-07-06 23:46:59, 1:04:15\n",
      "2024-07-06 23:42:21,131 WARNING  pid:8856 util.util:249:enumerateWithEstimate E7 Training ----/3098, done at 2024-07-06 23:42:21\n",
      "2024-07-06 23:42:21,469 INFO     pid:8856 training:304:logMetrics E7 LunaTrainingApp\n",
      "2024-07-06 23:42:21,477 INFO     pid:8856 training:341:logMetrics E7 trn      0.0181 loss,  99.7% correct, nan precision, 0.0000 recall, nan f1 score\n",
      "2024-07-06 23:42:21,479 INFO     pid:8856 training:353:logMetrics E7 trn_neg  0.0025 loss, 100.0% correct (98879 of 98879)\n",
      "2024-07-06 23:42:21,479 INFO     pid:8856 training:364:logMetrics E7 trn_pos  6.1835 loss,   0.0% correct (0 of 249)\n",
      "2024-07-06 23:42:21,494 WARNING  pid:8856 util.util:219:enumerateWithEstimate E7 Validation  ----/345, starting\n",
      "2024-07-06 23:44:39,216 INFO     pid:8856 util.util:236:enumerateWithEstimate E7 Validation    64/345, done at 2024-07-06 23:50:24, 0:06:57\n",
      "2024-07-06 23:48:11,701 INFO     pid:8856 util.util:236:enumerateWithEstimate E7 Validation   256/345, done at 2024-07-06 23:49:51, 0:06:25\n",
      "2024-07-06 23:49:46,380 WARNING  pid:8856 util.util:249:enumerateWithEstimate E7 Validation  ----/345, done at 2024-07-06 23:49:46\n",
      "2024-07-06 23:49:46,381 INFO     pid:8856 training:304:logMetrics E7 LunaTrainingApp\n",
      "2024-07-06 23:49:46,383 INFO     pid:8856 training:341:logMetrics E7 val      0.0178 loss,  99.7% correct, nan precision, 0.0000 recall, nan f1 score\n",
      "2024-07-06 23:49:46,384 INFO     pid:8856 training:353:logMetrics E7 val_neg  0.0019 loss, 100.0% correct (10987 of 10987)\n",
      "2024-07-06 23:49:46,384 INFO     pid:8856 training:364:logMetrics E7 val_pos  6.2417 loss,   0.0% correct (0 of 28)\n",
      "2024-07-06 23:49:46,389 INFO     pid:8856 training:195:main Epoch 8 of 10, 3098/345 batches of size 32*1\n",
      "2024-07-06 23:49:46,390 WARNING  pid:8856 util.util:219:enumerateWithEstimate E8 Training ----/3098, starting\n",
      "2024-07-06 23:52:05,325 INFO     pid:8856 util.util:236:enumerateWithEstimate E8 Training   64/3098, done at 2024-07-07 00:57:45, 1:06:57\n",
      "2024-07-06 23:55:59,976 INFO     pid:8856 util.util:236:enumerateWithEstimate E8 Training  256/3098, done at 2024-07-07 00:54:43, 1:03:54\n",
      "2024-07-07 00:13:00,971 INFO     pid:8856 util.util:236:enumerateWithEstimate E8 Training 1024/3098, done at 2024-07-07 00:58:11, 1:07:22\n",
      "2024-07-07 00:58:02,569 WARNING  pid:8856 util.util:249:enumerateWithEstimate E8 Training ----/3098, done at 2024-07-07 00:58:02\n",
      "2024-07-07 00:58:03,473 INFO     pid:8856 training:304:logMetrics E8 LunaTrainingApp\n",
      "2024-07-07 00:58:03,488 INFO     pid:8856 training:341:logMetrics E8 trn      0.0180 loss,  99.7% correct, nan precision, 0.0000 recall, nan f1 score\n",
      "2024-07-07 00:58:03,489 INFO     pid:8856 training:353:logMetrics E8 trn_neg  0.0025 loss, 100.0% correct (98879 of 98879)\n",
      "2024-07-07 00:58:03,491 INFO     pid:8856 training:364:logMetrics E8 trn_pos  6.1654 loss,   0.0% correct (0 of 249)\n",
      "2024-07-07 00:58:03,534 WARNING  pid:8856 util.util:219:enumerateWithEstimate E8 Validation  ----/345, starting\n",
      "2024-07-07 01:00:31,902 INFO     pid:8856 util.util:236:enumerateWithEstimate E8 Validation    64/345, done at 2024-07-07 01:06:40, 0:07:26\n",
      "2024-07-07 01:04:31,794 INFO     pid:8856 util.util:236:enumerateWithEstimate E8 Validation   256/345, done at 2024-07-07 01:06:23, 0:07:08\n",
      "2024-07-07 01:06:20,838 WARNING  pid:8856 util.util:249:enumerateWithEstimate E8 Validation  ----/345, done at 2024-07-07 01:06:20\n",
      "2024-07-07 01:06:20,842 INFO     pid:8856 training:304:logMetrics E8 LunaTrainingApp\n",
      "2024-07-07 01:06:20,848 INFO     pid:8856 training:341:logMetrics E8 val      0.0178 loss,  99.7% correct, nan precision, 0.0000 recall, nan f1 score\n",
      "2024-07-07 01:06:20,850 INFO     pid:8856 training:353:logMetrics E8 val_neg  0.0020 loss, 100.0% correct (10987 of 10987)\n",
      "2024-07-07 01:06:20,852 INFO     pid:8856 training:364:logMetrics E8 val_pos  6.1958 loss,   0.0% correct (0 of 28)\n",
      "2024-07-07 01:06:20,864 INFO     pid:8856 training:195:main Epoch 9 of 10, 3098/345 batches of size 32*1\n",
      "2024-07-07 01:06:20,867 WARNING  pid:8856 util.util:219:enumerateWithEstimate E9 Training ----/3098, starting\n",
      "2024-07-07 01:09:01,855 INFO     pid:8856 util.util:236:enumerateWithEstimate E9 Training   64/3098, done at 2024-07-07 02:22:51, 1:15:15\n",
      "2024-07-07 01:13:25,733 INFO     pid:8856 util.util:236:enumerateWithEstimate E9 Training  256/3098, done at 2024-07-07 02:19:27, 1:11:52\n",
      "2024-07-07 01:30:05,956 INFO     pid:8856 util.util:236:enumerateWithEstimate E9 Training 1024/3098, done at 2024-07-07 02:15:52, 1:08:17\n",
      "2024-07-07 02:11:50,086 WARNING  pid:8856 util.util:249:enumerateWithEstimate E9 Training ----/3098, done at 2024-07-07 02:11:50\n",
      "2024-07-07 02:11:50,985 INFO     pid:8856 training:304:logMetrics E9 LunaTrainingApp\n",
      "2024-07-07 02:11:50,997 INFO     pid:8856 training:341:logMetrics E9 trn      0.0180 loss,  99.7% correct, nan precision, 0.0000 recall, nan f1 score\n",
      "2024-07-07 02:11:50,999 INFO     pid:8856 training:353:logMetrics E9 trn_neg  0.0025 loss, 100.0% correct (98879 of 98879)\n",
      "2024-07-07 02:11:51,000 INFO     pid:8856 training:364:logMetrics E9 trn_pos  6.1494 loss,   0.0% correct (0 of 249)\n",
      "2024-07-07 02:11:51,040 WARNING  pid:8856 util.util:219:enumerateWithEstimate E9 Validation  ----/345, starting\n",
      "2024-07-07 02:14:22,172 INFO     pid:8856 util.util:236:enumerateWithEstimate E9 Validation    64/345, done at 2024-07-07 02:20:17, 0:07:10\n",
      "2024-07-07 02:18:25,511 INFO     pid:8856 util.util:236:enumerateWithEstimate E9 Validation   256/345, done at 2024-07-07 02:20:17, 0:07:09\n",
      "2024-07-07 02:20:09,566 WARNING  pid:8856 util.util:249:enumerateWithEstimate E9 Validation  ----/345, done at 2024-07-07 02:20:09\n",
      "2024-07-07 02:20:09,569 INFO     pid:8856 training:304:logMetrics E9 LunaTrainingApp\n",
      "2024-07-07 02:20:09,571 INFO     pid:8856 training:341:logMetrics E9 val      0.0178 loss,  99.7% correct, nan precision, 0.0000 recall, nan f1 score\n",
      "2024-07-07 02:20:09,572 INFO     pid:8856 training:353:logMetrics E9 val_neg  0.0022 loss, 100.0% correct (10987 of 10987)\n",
      "2024-07-07 02:20:09,573 INFO     pid:8856 training:364:logMetrics E9 val_pos  6.1423 loss,   0.0% correct (0 of 28)\n",
      "2024-07-07 02:20:09,580 INFO     pid:8856 training:195:main Epoch 10 of 10, 3098/345 batches of size 32*1\n",
      "2024-07-07 02:20:09,582 WARNING  pid:8856 util.util:219:enumerateWithEstimate E10 Training ----/3098, starting\n",
      "2024-07-07 02:22:41,232 INFO     pid:8856 util.util:236:enumerateWithEstimate E10 Training   64/3098, done at 2024-07-07 03:31:12, 1:09:51\n",
      "2024-07-07 02:26:34,094 INFO     pid:8856 util.util:236:enumerateWithEstimate E10 Training  256/3098, done at 2024-07-07 03:25:35, 1:04:13\n",
      "2024-07-07 02:42:02,436 INFO     pid:8856 util.util:236:enumerateWithEstimate E10 Training 1024/3098, done at 2024-07-07 03:24:07, 1:02:46\n",
      "2024-07-07 03:24:49,752 WARNING  pid:8856 util.util:249:enumerateWithEstimate E10 Training ----/3098, done at 2024-07-07 03:24:49\n",
      "2024-07-07 03:24:50,343 INFO     pid:8856 training:304:logMetrics E10 LunaTrainingApp\n",
      "2024-07-07 03:24:50,351 INFO     pid:8856 training:341:logMetrics E10 trn      0.0179 loss,  99.7% correct, nan precision, 0.0000 recall, nan f1 score\n",
      "2024-07-07 03:24:50,351 INFO     pid:8856 training:353:logMetrics E10 trn_neg  0.0025 loss, 100.0% correct (98879 of 98879)\n",
      "2024-07-07 03:24:50,352 INFO     pid:8856 training:364:logMetrics E10 trn_pos  6.1350 loss,   0.0% correct (0 of 249)\n",
      "2024-07-07 03:24:50,366 WARNING  pid:8856 util.util:219:enumerateWithEstimate E10 Validation  ----/345, starting\n",
      "2024-07-07 03:27:04,359 INFO     pid:8856 util.util:236:enumerateWithEstimate E10 Validation    64/345, done at 2024-07-07 03:32:49, 0:06:57\n",
      "2024-07-07 03:30:46,229 INFO     pid:8856 util.util:236:enumerateWithEstimate E10 Validation   256/345, done at 2024-07-07 03:32:29, 0:06:37\n",
      "2024-07-07 03:32:24,261 WARNING  pid:8856 util.util:249:enumerateWithEstimate E10 Validation  ----/345, done at 2024-07-07 03:32:24\n",
      "2024-07-07 03:32:24,263 INFO     pid:8856 training:304:logMetrics E10 LunaTrainingApp\n",
      "2024-07-07 03:32:24,265 INFO     pid:8856 training:341:logMetrics E10 val      0.0177 loss,  99.7% correct, nan precision, 0.0000 recall, nan f1 score\n",
      "2024-07-07 03:32:24,266 INFO     pid:8856 training:353:logMetrics E10 val_neg  0.0023 loss, 100.0% correct (10987 of 10987)\n",
      "2024-07-07 03:32:24,267 INFO     pid:8856 training:364:logMetrics E10 val_pos  6.0830 loss,   0.0% correct (0 of 28)\n",
      "2024-07-07 03:32:24,655 INFO     pid:8856 nb:009:run Finished: training.LunaTrainingApp.['--num-workers=6', '--epochs=10']).main()\n"
     ]
    }
   ],
   "source": [
    "run('training.LunaTrainingApp', f'--epochs={10}')"
   ]
  },
  {
   "cell_type": "code",
   "execution_count": 5,
   "metadata": {},
   "outputs": [
    {
     "name": "stderr",
     "output_type": "stream",
     "text": [
      "2024-07-16 22:09:29,311 INFO     pid:13688 nb:004:run Running: training.LunaTrainingApp(['--num-workers=6', '--epochs=1', 'unbalanced']).main()\n",
      "2024-07-16 22:11:52,502 INFO     pid:13688 training:127:initModel Using CUDA; 1 devices.\n",
      "2024-07-16 22:11:54,610 INFO     pid:13688 training:188:main Starting LunaTrainingApp, Namespace(augment_flip=False, augment_noise=False, augment_offset=False, augment_rotate=False, augment_scale=False, augmented=False, balanced=False, batch_size=16, comment='unbalanced', epochs=1, num_workers=6, tb_prefix='p2ch12')\n",
      "2024-07-16 22:12:05,252 INFO     pid:13688 dsets:267:__init__ <dsets.LunaDataset object at 0x00000219DB24AC10>: 247822 training samples, 247174 neg, 648 pos, unbalanced ratio\n",
      "2024-07-16 22:12:05,304 INFO     pid:13688 dsets:267:__init__ <dsets.LunaDataset object at 0x00000219D81EB6D0>: 27536 validation samples, 27463 neg, 73 pos, unbalanced ratio\n",
      "2024-07-16 22:12:05,305 INFO     pid:13688 training:195:main Epoch 1 of 1, 15489/1721 batches of size 16*1\n",
      "2024-07-16 22:12:05,420 WARNING  pid:13688 util.util:219:enumerateWithEstimate E1 Training ----/15489, starting\n"
     ]
    },
    {
     "ename": "DatabaseError",
     "evalue": "Caught DatabaseError in DataLoader worker process 3.\nOriginal Traceback (most recent call last):\n  File \"c:\\Users\\irath\\anaconda3\\envs\\cancerdetect\\lib\\site-packages\\torch\\utils\\data\\_utils\\worker.py\", line 308, in _worker_loop\n    data = fetcher.fetch(index)  # type: ignore[possibly-undefined]\n  File \"c:\\Users\\irath\\anaconda3\\envs\\cancerdetect\\lib\\site-packages\\torch\\utils\\data\\_utils\\fetch.py\", line 51, in fetch\n    data = [self.dataset[idx] for idx in possibly_batched_index]\n  File \"c:\\Users\\irath\\anaconda3\\envs\\cancerdetect\\lib\\site-packages\\torch\\utils\\data\\_utils\\fetch.py\", line 51, in <listcomp>\n    data = [self.dataset[idx] for idx in possibly_batched_index]\n  File \"e:\\deeplearningwithpytorch\\book_project\\dsets.py\", line 312, in __getitem__\n    candidate_a, center_irc = getCtRawCandidate(\n  File \"c:\\Users\\irath\\anaconda3\\envs\\cancerdetect\\lib\\site-packages\\diskcache\\core.py\", line 1885, in wrapper\n    result = self.get(key, default=ENOVAL, retry=True)\n  File \"c:\\Users\\irath\\anaconda3\\envs\\cancerdetect\\lib\\site-packages\\diskcache\\fanout.py\", line 257, in get\n    return shard.get(key, default, read, expire_time, tag, retry)\n  File \"c:\\Users\\irath\\anaconda3\\envs\\cancerdetect\\lib\\site-packages\\diskcache\\core.py\", line 1190, in get\n    rows = self._sql(select, (db_key, raw, time.time())).fetchall()\nsqlite3.DatabaseError: database disk image is malformed\n",
     "output_type": "error",
     "traceback": [
      "\u001b[1;31m---------------------------------------------------------------------------\u001b[0m",
      "\u001b[1;31mDatabaseError\u001b[0m                             Traceback (most recent call last)",
      "Cell \u001b[1;32mIn[5], line 1\u001b[0m\n\u001b[1;32m----> 1\u001b[0m \u001b[43mrun\u001b[49m\u001b[43m(\u001b[49m\u001b[38;5;124;43m'\u001b[39;49m\u001b[38;5;124;43mtraining.LunaTrainingApp\u001b[39;49m\u001b[38;5;124;43m'\u001b[39;49m\u001b[43m,\u001b[49m\u001b[43m \u001b[49m\u001b[38;5;124;43m'\u001b[39;49m\u001b[38;5;124;43m--epochs=1\u001b[39;49m\u001b[38;5;124;43m'\u001b[39;49m\u001b[43m,\u001b[49m\u001b[43m \u001b[49m\u001b[38;5;124;43m'\u001b[39;49m\u001b[38;5;124;43munbalanced\u001b[39;49m\u001b[38;5;124;43m'\u001b[39;49m\u001b[43m)\u001b[49m\n",
      "Cell \u001b[1;32mIn[2], line 7\u001b[0m, in \u001b[0;36mrun\u001b[1;34m(app, *argv)\u001b[0m\n\u001b[0;32m      4\u001b[0m log\u001b[38;5;241m.\u001b[39minfo(\u001b[38;5;124m\"\u001b[39m\u001b[38;5;124mRunning: \u001b[39m\u001b[38;5;132;01m{}\u001b[39;00m\u001b[38;5;124m(\u001b[39m\u001b[38;5;132;01m{!r}\u001b[39;00m\u001b[38;5;124m).main()\u001b[39m\u001b[38;5;124m\"\u001b[39m\u001b[38;5;241m.\u001b[39mformat(app, argv))\n\u001b[0;32m      6\u001b[0m app_cls \u001b[38;5;241m=\u001b[39m importstr(\u001b[38;5;241m*\u001b[39mapp\u001b[38;5;241m.\u001b[39mrsplit(\u001b[38;5;124m'\u001b[39m\u001b[38;5;124m.\u001b[39m\u001b[38;5;124m'\u001b[39m, \u001b[38;5;241m1\u001b[39m))  \u001b[38;5;66;03m# <2>\u001b[39;00m\n\u001b[1;32m----> 7\u001b[0m \u001b[43mapp_cls\u001b[49m\u001b[43m(\u001b[49m\u001b[43margv\u001b[49m\u001b[43m)\u001b[49m\u001b[38;5;241;43m.\u001b[39;49m\u001b[43mmain\u001b[49m\u001b[43m(\u001b[49m\u001b[43m)\u001b[49m\n\u001b[0;32m      9\u001b[0m log\u001b[38;5;241m.\u001b[39minfo(\u001b[38;5;124m\"\u001b[39m\u001b[38;5;124mFinished: \u001b[39m\u001b[38;5;132;01m{}\u001b[39;00m\u001b[38;5;124m.\u001b[39m\u001b[38;5;132;01m{!r}\u001b[39;00m\u001b[38;5;124m).main()\u001b[39m\u001b[38;5;124m\"\u001b[39m\u001b[38;5;241m.\u001b[39mformat(app, argv))\n",
      "File \u001b[1;32me:\\deeplearningwithpytorch\\book_project\\training.py:204\u001b[0m, in \u001b[0;36mLunaTrainingApp.main\u001b[1;34m(self)\u001b[0m\n\u001b[0;32m    193\u001b[0m \u001b[38;5;28;01mfor\u001b[39;00m epoch_ndx \u001b[38;5;129;01min\u001b[39;00m \u001b[38;5;28mrange\u001b[39m(\u001b[38;5;241m1\u001b[39m, \u001b[38;5;28mself\u001b[39m\u001b[38;5;241m.\u001b[39mcli_args\u001b[38;5;241m.\u001b[39mepochs \u001b[38;5;241m+\u001b[39m \u001b[38;5;241m1\u001b[39m):\n\u001b[0;32m    195\u001b[0m     log\u001b[38;5;241m.\u001b[39minfo(\u001b[38;5;124m\"\u001b[39m\u001b[38;5;124mEpoch \u001b[39m\u001b[38;5;132;01m{}\u001b[39;00m\u001b[38;5;124m of \u001b[39m\u001b[38;5;132;01m{}\u001b[39;00m\u001b[38;5;124m, \u001b[39m\u001b[38;5;132;01m{}\u001b[39;00m\u001b[38;5;124m/\u001b[39m\u001b[38;5;132;01m{}\u001b[39;00m\u001b[38;5;124m batches of size \u001b[39m\u001b[38;5;132;01m{}\u001b[39;00m\u001b[38;5;124m*\u001b[39m\u001b[38;5;132;01m{}\u001b[39;00m\u001b[38;5;124m\"\u001b[39m\u001b[38;5;241m.\u001b[39mformat(\n\u001b[0;32m    196\u001b[0m         epoch_ndx,\n\u001b[0;32m    197\u001b[0m         \u001b[38;5;28mself\u001b[39m\u001b[38;5;241m.\u001b[39mcli_args\u001b[38;5;241m.\u001b[39mepochs,\n\u001b[1;32m   (...)\u001b[0m\n\u001b[0;32m    201\u001b[0m         (torch\u001b[38;5;241m.\u001b[39mcuda\u001b[38;5;241m.\u001b[39mdevice_count() \u001b[38;5;28;01mif\u001b[39;00m \u001b[38;5;28mself\u001b[39m\u001b[38;5;241m.\u001b[39muse_cuda \u001b[38;5;28;01melse\u001b[39;00m \u001b[38;5;241m1\u001b[39m),\n\u001b[0;32m    202\u001b[0m     ))\n\u001b[1;32m--> 204\u001b[0m     trnMetrics_t \u001b[38;5;241m=\u001b[39m \u001b[38;5;28;43mself\u001b[39;49m\u001b[38;5;241;43m.\u001b[39;49m\u001b[43mdoTraining\u001b[49m\u001b[43m(\u001b[49m\u001b[43mepoch_ndx\u001b[49m\u001b[43m,\u001b[49m\u001b[43m \u001b[49m\u001b[43mtrain_dl\u001b[49m\u001b[43m)\u001b[49m\n\u001b[0;32m    205\u001b[0m     \u001b[38;5;28mself\u001b[39m\u001b[38;5;241m.\u001b[39mlogMetrics(epoch_ndx, \u001b[38;5;124m'\u001b[39m\u001b[38;5;124mtrn\u001b[39m\u001b[38;5;124m'\u001b[39m, trnMetrics_t)\n\u001b[0;32m    207\u001b[0m     valMetrics_t \u001b[38;5;241m=\u001b[39m \u001b[38;5;28mself\u001b[39m\u001b[38;5;241m.\u001b[39mdoValidation(epoch_ndx, val_dl)\n",
      "File \u001b[1;32me:\\deeplearningwithpytorch\\book_project\\training.py:229\u001b[0m, in \u001b[0;36mLunaTrainingApp.doTraining\u001b[1;34m(self, epoch_ndx, train_dl)\u001b[0m\n\u001b[0;32m    218\u001b[0m trnMetrics_g \u001b[38;5;241m=\u001b[39m torch\u001b[38;5;241m.\u001b[39mzeros(\n\u001b[0;32m    219\u001b[0m     METRICS_SIZE,\n\u001b[0;32m    220\u001b[0m     \u001b[38;5;28mlen\u001b[39m(train_dl\u001b[38;5;241m.\u001b[39mdataset),\n\u001b[0;32m    221\u001b[0m     device\u001b[38;5;241m=\u001b[39m\u001b[38;5;28mself\u001b[39m\u001b[38;5;241m.\u001b[39mdevice,\n\u001b[0;32m    222\u001b[0m )\n\u001b[0;32m    224\u001b[0m batch_iter \u001b[38;5;241m=\u001b[39m enumerateWithEstimate(\n\u001b[0;32m    225\u001b[0m     train_dl,\n\u001b[0;32m    226\u001b[0m     \u001b[38;5;124m\"\u001b[39m\u001b[38;5;124mE\u001b[39m\u001b[38;5;132;01m{}\u001b[39;00m\u001b[38;5;124m Training\u001b[39m\u001b[38;5;124m\"\u001b[39m\u001b[38;5;241m.\u001b[39mformat(epoch_ndx),\n\u001b[0;32m    227\u001b[0m     start_ndx\u001b[38;5;241m=\u001b[39mtrain_dl\u001b[38;5;241m.\u001b[39mnum_workers,\n\u001b[0;32m    228\u001b[0m )\n\u001b[1;32m--> 229\u001b[0m \u001b[38;5;28;01mfor\u001b[39;00m batch_ndx, batch_tup \u001b[38;5;129;01min\u001b[39;00m batch_iter:\n\u001b[0;32m    230\u001b[0m     \u001b[38;5;28mself\u001b[39m\u001b[38;5;241m.\u001b[39moptimizer\u001b[38;5;241m.\u001b[39mzero_grad()\n\u001b[0;32m    232\u001b[0m     loss_var \u001b[38;5;241m=\u001b[39m \u001b[38;5;28mself\u001b[39m\u001b[38;5;241m.\u001b[39mcomputeBatchLoss(\n\u001b[0;32m    233\u001b[0m         batch_ndx,\n\u001b[0;32m    234\u001b[0m         batch_tup,\n\u001b[0;32m    235\u001b[0m         train_dl\u001b[38;5;241m.\u001b[39mbatch_size,\n\u001b[0;32m    236\u001b[0m         trnMetrics_g,\n\u001b[0;32m    237\u001b[0m     )\n",
      "File \u001b[1;32me:\\deeplearningwithpytorch\\book_project\\util\\util.py:224\u001b[0m, in \u001b[0;36menumerateWithEstimate\u001b[1;34m(iter, desc_str, start_ndx, print_ndx, backoff, iter_len)\u001b[0m\n\u001b[0;32m    219\u001b[0m log\u001b[38;5;241m.\u001b[39mwarning(\u001b[38;5;124m\"\u001b[39m\u001b[38;5;132;01m{}\u001b[39;00m\u001b[38;5;124m ----/\u001b[39m\u001b[38;5;132;01m{}\u001b[39;00m\u001b[38;5;124m, starting\u001b[39m\u001b[38;5;124m\"\u001b[39m\u001b[38;5;241m.\u001b[39mformat(\n\u001b[0;32m    220\u001b[0m     desc_str,\n\u001b[0;32m    221\u001b[0m     iter_len,\n\u001b[0;32m    222\u001b[0m ))\n\u001b[0;32m    223\u001b[0m start_ts \u001b[38;5;241m=\u001b[39m time\u001b[38;5;241m.\u001b[39mtime()\n\u001b[1;32m--> 224\u001b[0m \u001b[38;5;28;01mfor\u001b[39;00m (current_ndx, item) \u001b[38;5;129;01min\u001b[39;00m \u001b[38;5;28menumerate\u001b[39m(\u001b[38;5;28miter\u001b[39m):\n\u001b[0;32m    225\u001b[0m     \u001b[38;5;28;01myield\u001b[39;00m (current_ndx, item)\n\u001b[0;32m    226\u001b[0m     \u001b[38;5;28;01mif\u001b[39;00m current_ndx \u001b[38;5;241m==\u001b[39m print_ndx:\n\u001b[0;32m    227\u001b[0m         \u001b[38;5;66;03m# ... <1>\u001b[39;00m\n",
      "File \u001b[1;32mc:\\Users\\irath\\anaconda3\\envs\\cancerdetect\\lib\\site-packages\\torch\\utils\\data\\dataloader.py:631\u001b[0m, in \u001b[0;36m_BaseDataLoaderIter.__next__\u001b[1;34m(self)\u001b[0m\n\u001b[0;32m    628\u001b[0m \u001b[38;5;28;01mif\u001b[39;00m \u001b[38;5;28mself\u001b[39m\u001b[38;5;241m.\u001b[39m_sampler_iter \u001b[38;5;129;01mis\u001b[39;00m \u001b[38;5;28;01mNone\u001b[39;00m:\n\u001b[0;32m    629\u001b[0m     \u001b[38;5;66;03m# TODO(https://github.com/pytorch/pytorch/issues/76750)\u001b[39;00m\n\u001b[0;32m    630\u001b[0m     \u001b[38;5;28mself\u001b[39m\u001b[38;5;241m.\u001b[39m_reset()  \u001b[38;5;66;03m# type: ignore[call-arg]\u001b[39;00m\n\u001b[1;32m--> 631\u001b[0m data \u001b[38;5;241m=\u001b[39m \u001b[38;5;28;43mself\u001b[39;49m\u001b[38;5;241;43m.\u001b[39;49m\u001b[43m_next_data\u001b[49m\u001b[43m(\u001b[49m\u001b[43m)\u001b[49m\n\u001b[0;32m    632\u001b[0m \u001b[38;5;28mself\u001b[39m\u001b[38;5;241m.\u001b[39m_num_yielded \u001b[38;5;241m+\u001b[39m\u001b[38;5;241m=\u001b[39m \u001b[38;5;241m1\u001b[39m\n\u001b[0;32m    633\u001b[0m \u001b[38;5;28;01mif\u001b[39;00m \u001b[38;5;28mself\u001b[39m\u001b[38;5;241m.\u001b[39m_dataset_kind \u001b[38;5;241m==\u001b[39m _DatasetKind\u001b[38;5;241m.\u001b[39mIterable \u001b[38;5;129;01mand\u001b[39;00m \\\n\u001b[0;32m    634\u001b[0m         \u001b[38;5;28mself\u001b[39m\u001b[38;5;241m.\u001b[39m_IterableDataset_len_called \u001b[38;5;129;01mis\u001b[39;00m \u001b[38;5;129;01mnot\u001b[39;00m \u001b[38;5;28;01mNone\u001b[39;00m \u001b[38;5;129;01mand\u001b[39;00m \\\n\u001b[0;32m    635\u001b[0m         \u001b[38;5;28mself\u001b[39m\u001b[38;5;241m.\u001b[39m_num_yielded \u001b[38;5;241m>\u001b[39m \u001b[38;5;28mself\u001b[39m\u001b[38;5;241m.\u001b[39m_IterableDataset_len_called:\n",
      "File \u001b[1;32mc:\\Users\\irath\\anaconda3\\envs\\cancerdetect\\lib\\site-packages\\torch\\utils\\data\\dataloader.py:1326\u001b[0m, in \u001b[0;36m_MultiProcessingDataLoaderIter._next_data\u001b[1;34m(self)\u001b[0m\n\u001b[0;32m   1324\u001b[0m \u001b[38;5;28;01mif\u001b[39;00m \u001b[38;5;28mlen\u001b[39m(\u001b[38;5;28mself\u001b[39m\u001b[38;5;241m.\u001b[39m_task_info[\u001b[38;5;28mself\u001b[39m\u001b[38;5;241m.\u001b[39m_rcvd_idx]) \u001b[38;5;241m==\u001b[39m \u001b[38;5;241m2\u001b[39m:\n\u001b[0;32m   1325\u001b[0m     data \u001b[38;5;241m=\u001b[39m \u001b[38;5;28mself\u001b[39m\u001b[38;5;241m.\u001b[39m_task_info\u001b[38;5;241m.\u001b[39mpop(\u001b[38;5;28mself\u001b[39m\u001b[38;5;241m.\u001b[39m_rcvd_idx)[\u001b[38;5;241m1\u001b[39m]\n\u001b[1;32m-> 1326\u001b[0m     \u001b[38;5;28;01mreturn\u001b[39;00m \u001b[38;5;28;43mself\u001b[39;49m\u001b[38;5;241;43m.\u001b[39;49m\u001b[43m_process_data\u001b[49m\u001b[43m(\u001b[49m\u001b[43mdata\u001b[49m\u001b[43m)\u001b[49m\n\u001b[0;32m   1328\u001b[0m \u001b[38;5;28;01massert\u001b[39;00m \u001b[38;5;129;01mnot\u001b[39;00m \u001b[38;5;28mself\u001b[39m\u001b[38;5;241m.\u001b[39m_shutdown \u001b[38;5;129;01mand\u001b[39;00m \u001b[38;5;28mself\u001b[39m\u001b[38;5;241m.\u001b[39m_tasks_outstanding \u001b[38;5;241m>\u001b[39m \u001b[38;5;241m0\u001b[39m\n\u001b[0;32m   1329\u001b[0m idx, data \u001b[38;5;241m=\u001b[39m \u001b[38;5;28mself\u001b[39m\u001b[38;5;241m.\u001b[39m_get_data()\n",
      "File \u001b[1;32mc:\\Users\\irath\\anaconda3\\envs\\cancerdetect\\lib\\site-packages\\torch\\utils\\data\\dataloader.py:1372\u001b[0m, in \u001b[0;36m_MultiProcessingDataLoaderIter._process_data\u001b[1;34m(self, data)\u001b[0m\n\u001b[0;32m   1370\u001b[0m \u001b[38;5;28mself\u001b[39m\u001b[38;5;241m.\u001b[39m_try_put_index()\n\u001b[0;32m   1371\u001b[0m \u001b[38;5;28;01mif\u001b[39;00m \u001b[38;5;28misinstance\u001b[39m(data, ExceptionWrapper):\n\u001b[1;32m-> 1372\u001b[0m     \u001b[43mdata\u001b[49m\u001b[38;5;241;43m.\u001b[39;49m\u001b[43mreraise\u001b[49m\u001b[43m(\u001b[49m\u001b[43m)\u001b[49m\n\u001b[0;32m   1373\u001b[0m \u001b[38;5;28;01mreturn\u001b[39;00m data\n",
      "File \u001b[1;32mc:\\Users\\irath\\anaconda3\\envs\\cancerdetect\\lib\\site-packages\\torch\\_utils.py:705\u001b[0m, in \u001b[0;36mExceptionWrapper.reraise\u001b[1;34m(self)\u001b[0m\n\u001b[0;32m    701\u001b[0m \u001b[38;5;28;01mexcept\u001b[39;00m \u001b[38;5;167;01mTypeError\u001b[39;00m:\n\u001b[0;32m    702\u001b[0m     \u001b[38;5;66;03m# If the exception takes multiple arguments, don't try to\u001b[39;00m\n\u001b[0;32m    703\u001b[0m     \u001b[38;5;66;03m# instantiate since we don't know how to\u001b[39;00m\n\u001b[0;32m    704\u001b[0m     \u001b[38;5;28;01mraise\u001b[39;00m \u001b[38;5;167;01mRuntimeError\u001b[39;00m(msg) \u001b[38;5;28;01mfrom\u001b[39;00m \u001b[38;5;28;01mNone\u001b[39;00m\n\u001b[1;32m--> 705\u001b[0m \u001b[38;5;28;01mraise\u001b[39;00m exception\n",
      "\u001b[1;31mDatabaseError\u001b[0m: Caught DatabaseError in DataLoader worker process 3.\nOriginal Traceback (most recent call last):\n  File \"c:\\Users\\irath\\anaconda3\\envs\\cancerdetect\\lib\\site-packages\\torch\\utils\\data\\_utils\\worker.py\", line 308, in _worker_loop\n    data = fetcher.fetch(index)  # type: ignore[possibly-undefined]\n  File \"c:\\Users\\irath\\anaconda3\\envs\\cancerdetect\\lib\\site-packages\\torch\\utils\\data\\_utils\\fetch.py\", line 51, in fetch\n    data = [self.dataset[idx] for idx in possibly_batched_index]\n  File \"c:\\Users\\irath\\anaconda3\\envs\\cancerdetect\\lib\\site-packages\\torch\\utils\\data\\_utils\\fetch.py\", line 51, in <listcomp>\n    data = [self.dataset[idx] for idx in possibly_batched_index]\n  File \"e:\\deeplearningwithpytorch\\book_project\\dsets.py\", line 312, in __getitem__\n    candidate_a, center_irc = getCtRawCandidate(\n  File \"c:\\Users\\irath\\anaconda3\\envs\\cancerdetect\\lib\\site-packages\\diskcache\\core.py\", line 1885, in wrapper\n    result = self.get(key, default=ENOVAL, retry=True)\n  File \"c:\\Users\\irath\\anaconda3\\envs\\cancerdetect\\lib\\site-packages\\diskcache\\fanout.py\", line 257, in get\n    return shard.get(key, default, read, expire_time, tag, retry)\n  File \"c:\\Users\\irath\\anaconda3\\envs\\cancerdetect\\lib\\site-packages\\diskcache\\core.py\", line 1190, in get\n    rows = self._sql(select, (db_key, raw, time.time())).fetchall()\nsqlite3.DatabaseError: database disk image is malformed\n"
     ]
    }
   ],
   "source": [
    "run('training.LunaTrainingApp', '--epochs=1', 'unbalanced')"
   ]
  },
  {
   "cell_type": "code",
   "execution_count": 8,
   "metadata": {},
   "outputs": [
    {
     "name": "stderr",
     "output_type": "stream",
     "text": [
      "2024-07-13 10:04:55,368 INFO     pid:748 nb:004:run Running: training.LunaTrainingApp(['--num-workers=6', '--epochs=11', '--balanced', 'balanced']).main()\n",
      "2024-07-13 10:04:55,377 INFO     pid:748 training:127:initModel Using CUDA; 1 devices.\n",
      "2024-07-13 10:04:55,390 INFO     pid:748 training:188:main Starting LunaTrainingApp, Namespace(augment_flip=False, augment_noise=False, augment_offset=False, augment_rotate=False, augment_scale=False, augmented=False, balanced=True, batch_size=32, comment='balanced', epochs=11, num_workers=6, tb_prefix='p2ch12')\n",
      "2024-07-13 10:04:55,615 INFO     pid:748 dsets:267:__init__ <dsets.LunaDataset object at 0x0000018E319C4A00>: 247822 training samples, 247174 neg, 648 pos, 1:1 ratio\n",
      "2024-07-13 10:04:55,650 INFO     pid:748 dsets:267:__init__ <dsets.LunaDataset object at 0x0000018E1BA523D0>: 27536 validation samples, 27463 neg, 73 pos, unbalanced ratio\n",
      "2024-07-13 10:04:55,652 INFO     pid:748 training:195:main Epoch 1 of 11, 6250/861 batches of size 32*1\n",
      "2024-07-13 10:04:55,821 WARNING  pid:748 util.util:219:enumerateWithEstimate E1 Training ----/6250, starting\n"
     ]
    },
    {
     "ename": "DatabaseError",
     "evalue": "Caught DatabaseError in DataLoader worker process 1.\nOriginal Traceback (most recent call last):\n  File \"c:\\Users\\irath\\anaconda3\\envs\\cancerdetect\\lib\\site-packages\\torch\\utils\\data\\_utils\\worker.py\", line 308, in _worker_loop\n    data = fetcher.fetch(index)  # type: ignore[possibly-undefined]\n  File \"c:\\Users\\irath\\anaconda3\\envs\\cancerdetect\\lib\\site-packages\\torch\\utils\\data\\_utils\\fetch.py\", line 51, in fetch\n    data = [self.dataset[idx] for idx in possibly_batched_index]\n  File \"c:\\Users\\irath\\anaconda3\\envs\\cancerdetect\\lib\\site-packages\\torch\\utils\\data\\_utils\\fetch.py\", line 51, in <listcomp>\n    data = [self.dataset[idx] for idx in possibly_batched_index]\n  File \"e:\\deeplearningwithpytorch\\book_project\\dsets.py\", line 312, in __getitem__\n    candidate_a, center_irc = getCtRawCandidate(\n  File \"c:\\Users\\irath\\anaconda3\\envs\\cancerdetect\\lib\\site-packages\\diskcache\\core.py\", line 1872, in wrapper\n    result = self.get(key, default=ENOVAL, retry=True)\n  File \"c:\\Users\\irath\\anaconda3\\envs\\cancerdetect\\lib\\site-packages\\diskcache\\fanout.py\", line 285, in get\n    return shard.get(key, default, read, expire_time, tag, retry)\n  File \"c:\\Users\\irath\\anaconda3\\envs\\cancerdetect\\lib\\site-packages\\diskcache\\core.py\", line 1165, in get\n    rows = self._sql(select, (db_key, raw, time.time())).fetchall()\nsqlite3.DatabaseError: database disk image is malformed\n",
     "output_type": "error",
     "traceback": [
      "\u001b[1;31m---------------------------------------------------------------------------\u001b[0m",
      "\u001b[1;31mDatabaseError\u001b[0m                             Traceback (most recent call last)",
      "Cell \u001b[1;32mIn[8], line 1\u001b[0m\n\u001b[1;32m----> 1\u001b[0m \u001b[43mrun\u001b[49m\u001b[43m(\u001b[49m\u001b[38;5;124;43m'\u001b[39;49m\u001b[38;5;124;43mtraining.LunaTrainingApp\u001b[39;49m\u001b[38;5;124;43m'\u001b[39;49m\u001b[43m,\u001b[49m\u001b[43m \u001b[49m\u001b[38;5;124;43mf\u001b[39;49m\u001b[38;5;124;43m'\u001b[39;49m\u001b[38;5;124;43m--epochs=\u001b[39;49m\u001b[38;5;132;43;01m{\u001b[39;49;00m\u001b[38;5;241;43m11\u001b[39;49m\u001b[38;5;132;43;01m}\u001b[39;49;00m\u001b[38;5;124;43m'\u001b[39;49m\u001b[43m,\u001b[49m\u001b[43m \u001b[49m\u001b[38;5;124;43m'\u001b[39;49m\u001b[38;5;124;43m--balanced\u001b[39;49m\u001b[38;5;124;43m'\u001b[39;49m\u001b[43m,\u001b[49m\u001b[43m \u001b[49m\u001b[38;5;124;43m'\u001b[39;49m\u001b[38;5;124;43mbalanced\u001b[39;49m\u001b[38;5;124;43m'\u001b[39;49m\u001b[43m)\u001b[49m\n",
      "Cell \u001b[1;32mIn[2], line 7\u001b[0m, in \u001b[0;36mrun\u001b[1;34m(app, *argv)\u001b[0m\n\u001b[0;32m      4\u001b[0m log\u001b[38;5;241m.\u001b[39minfo(\u001b[38;5;124m\"\u001b[39m\u001b[38;5;124mRunning: \u001b[39m\u001b[38;5;132;01m{}\u001b[39;00m\u001b[38;5;124m(\u001b[39m\u001b[38;5;132;01m{!r}\u001b[39;00m\u001b[38;5;124m).main()\u001b[39m\u001b[38;5;124m\"\u001b[39m\u001b[38;5;241m.\u001b[39mformat(app, argv))\n\u001b[0;32m      6\u001b[0m app_cls \u001b[38;5;241m=\u001b[39m importstr(\u001b[38;5;241m*\u001b[39mapp\u001b[38;5;241m.\u001b[39mrsplit(\u001b[38;5;124m'\u001b[39m\u001b[38;5;124m.\u001b[39m\u001b[38;5;124m'\u001b[39m, \u001b[38;5;241m1\u001b[39m))  \u001b[38;5;66;03m# <2>\u001b[39;00m\n\u001b[1;32m----> 7\u001b[0m \u001b[43mapp_cls\u001b[49m\u001b[43m(\u001b[49m\u001b[43margv\u001b[49m\u001b[43m)\u001b[49m\u001b[38;5;241;43m.\u001b[39;49m\u001b[43mmain\u001b[49m\u001b[43m(\u001b[49m\u001b[43m)\u001b[49m\n\u001b[0;32m      9\u001b[0m log\u001b[38;5;241m.\u001b[39minfo(\u001b[38;5;124m\"\u001b[39m\u001b[38;5;124mFinished: \u001b[39m\u001b[38;5;132;01m{}\u001b[39;00m\u001b[38;5;124m.\u001b[39m\u001b[38;5;132;01m{!r}\u001b[39;00m\u001b[38;5;124m).main()\u001b[39m\u001b[38;5;124m\"\u001b[39m\u001b[38;5;241m.\u001b[39mformat(app, argv))\n",
      "File \u001b[1;32me:\\deeplearningwithpytorch\\book_project\\training.py:204\u001b[0m, in \u001b[0;36mLunaTrainingApp.main\u001b[1;34m(self)\u001b[0m\n\u001b[0;32m    193\u001b[0m \u001b[38;5;28;01mfor\u001b[39;00m epoch_ndx \u001b[38;5;129;01min\u001b[39;00m \u001b[38;5;28mrange\u001b[39m(\u001b[38;5;241m1\u001b[39m, \u001b[38;5;28mself\u001b[39m\u001b[38;5;241m.\u001b[39mcli_args\u001b[38;5;241m.\u001b[39mepochs \u001b[38;5;241m+\u001b[39m \u001b[38;5;241m1\u001b[39m):\n\u001b[0;32m    195\u001b[0m     log\u001b[38;5;241m.\u001b[39minfo(\u001b[38;5;124m\"\u001b[39m\u001b[38;5;124mEpoch \u001b[39m\u001b[38;5;132;01m{}\u001b[39;00m\u001b[38;5;124m of \u001b[39m\u001b[38;5;132;01m{}\u001b[39;00m\u001b[38;5;124m, \u001b[39m\u001b[38;5;132;01m{}\u001b[39;00m\u001b[38;5;124m/\u001b[39m\u001b[38;5;132;01m{}\u001b[39;00m\u001b[38;5;124m batches of size \u001b[39m\u001b[38;5;132;01m{}\u001b[39;00m\u001b[38;5;124m*\u001b[39m\u001b[38;5;132;01m{}\u001b[39;00m\u001b[38;5;124m\"\u001b[39m\u001b[38;5;241m.\u001b[39mformat(\n\u001b[0;32m    196\u001b[0m         epoch_ndx,\n\u001b[0;32m    197\u001b[0m         \u001b[38;5;28mself\u001b[39m\u001b[38;5;241m.\u001b[39mcli_args\u001b[38;5;241m.\u001b[39mepochs,\n\u001b[1;32m   (...)\u001b[0m\n\u001b[0;32m    201\u001b[0m         (torch\u001b[38;5;241m.\u001b[39mcuda\u001b[38;5;241m.\u001b[39mdevice_count() \u001b[38;5;28;01mif\u001b[39;00m \u001b[38;5;28mself\u001b[39m\u001b[38;5;241m.\u001b[39muse_cuda \u001b[38;5;28;01melse\u001b[39;00m \u001b[38;5;241m1\u001b[39m),\n\u001b[0;32m    202\u001b[0m     ))\n\u001b[1;32m--> 204\u001b[0m     trnMetrics_t \u001b[38;5;241m=\u001b[39m \u001b[38;5;28;43mself\u001b[39;49m\u001b[38;5;241;43m.\u001b[39;49m\u001b[43mdoTraining\u001b[49m\u001b[43m(\u001b[49m\u001b[43mepoch_ndx\u001b[49m\u001b[43m,\u001b[49m\u001b[43m \u001b[49m\u001b[43mtrain_dl\u001b[49m\u001b[43m)\u001b[49m\n\u001b[0;32m    205\u001b[0m     \u001b[38;5;28mself\u001b[39m\u001b[38;5;241m.\u001b[39mlogMetrics(epoch_ndx, \u001b[38;5;124m'\u001b[39m\u001b[38;5;124mtrn\u001b[39m\u001b[38;5;124m'\u001b[39m, trnMetrics_t)\n\u001b[0;32m    207\u001b[0m     valMetrics_t \u001b[38;5;241m=\u001b[39m \u001b[38;5;28mself\u001b[39m\u001b[38;5;241m.\u001b[39mdoValidation(epoch_ndx, val_dl)\n",
      "File \u001b[1;32me:\\deeplearningwithpytorch\\book_project\\training.py:229\u001b[0m, in \u001b[0;36mLunaTrainingApp.doTraining\u001b[1;34m(self, epoch_ndx, train_dl)\u001b[0m\n\u001b[0;32m    218\u001b[0m trnMetrics_g \u001b[38;5;241m=\u001b[39m torch\u001b[38;5;241m.\u001b[39mzeros(\n\u001b[0;32m    219\u001b[0m     METRICS_SIZE,\n\u001b[0;32m    220\u001b[0m     \u001b[38;5;28mlen\u001b[39m(train_dl\u001b[38;5;241m.\u001b[39mdataset),\n\u001b[0;32m    221\u001b[0m     device\u001b[38;5;241m=\u001b[39m\u001b[38;5;28mself\u001b[39m\u001b[38;5;241m.\u001b[39mdevice,\n\u001b[0;32m    222\u001b[0m )\n\u001b[0;32m    224\u001b[0m batch_iter \u001b[38;5;241m=\u001b[39m enumerateWithEstimate(\n\u001b[0;32m    225\u001b[0m     train_dl,\n\u001b[0;32m    226\u001b[0m     \u001b[38;5;124m\"\u001b[39m\u001b[38;5;124mE\u001b[39m\u001b[38;5;132;01m{}\u001b[39;00m\u001b[38;5;124m Training\u001b[39m\u001b[38;5;124m\"\u001b[39m\u001b[38;5;241m.\u001b[39mformat(epoch_ndx),\n\u001b[0;32m    227\u001b[0m     start_ndx\u001b[38;5;241m=\u001b[39mtrain_dl\u001b[38;5;241m.\u001b[39mnum_workers,\n\u001b[0;32m    228\u001b[0m )\n\u001b[1;32m--> 229\u001b[0m \u001b[38;5;28;01mfor\u001b[39;00m batch_ndx, batch_tup \u001b[38;5;129;01min\u001b[39;00m batch_iter:\n\u001b[0;32m    230\u001b[0m     \u001b[38;5;28mself\u001b[39m\u001b[38;5;241m.\u001b[39moptimizer\u001b[38;5;241m.\u001b[39mzero_grad()\n\u001b[0;32m    232\u001b[0m     loss_var \u001b[38;5;241m=\u001b[39m \u001b[38;5;28mself\u001b[39m\u001b[38;5;241m.\u001b[39mcomputeBatchLoss(\n\u001b[0;32m    233\u001b[0m         batch_ndx,\n\u001b[0;32m    234\u001b[0m         batch_tup,\n\u001b[0;32m    235\u001b[0m         train_dl\u001b[38;5;241m.\u001b[39mbatch_size,\n\u001b[0;32m    236\u001b[0m         trnMetrics_g,\n\u001b[0;32m    237\u001b[0m     )\n",
      "File \u001b[1;32me:\\deeplearningwithpytorch\\book_project\\util\\util.py:224\u001b[0m, in \u001b[0;36menumerateWithEstimate\u001b[1;34m(iter, desc_str, start_ndx, print_ndx, backoff, iter_len)\u001b[0m\n\u001b[0;32m    219\u001b[0m log\u001b[38;5;241m.\u001b[39mwarning(\u001b[38;5;124m\"\u001b[39m\u001b[38;5;132;01m{}\u001b[39;00m\u001b[38;5;124m ----/\u001b[39m\u001b[38;5;132;01m{}\u001b[39;00m\u001b[38;5;124m, starting\u001b[39m\u001b[38;5;124m\"\u001b[39m\u001b[38;5;241m.\u001b[39mformat(\n\u001b[0;32m    220\u001b[0m     desc_str,\n\u001b[0;32m    221\u001b[0m     iter_len,\n\u001b[0;32m    222\u001b[0m ))\n\u001b[0;32m    223\u001b[0m start_ts \u001b[38;5;241m=\u001b[39m time\u001b[38;5;241m.\u001b[39mtime()\n\u001b[1;32m--> 224\u001b[0m \u001b[38;5;28;01mfor\u001b[39;00m (current_ndx, item) \u001b[38;5;129;01min\u001b[39;00m \u001b[38;5;28menumerate\u001b[39m(\u001b[38;5;28miter\u001b[39m):\n\u001b[0;32m    225\u001b[0m     \u001b[38;5;28;01myield\u001b[39;00m (current_ndx, item)\n\u001b[0;32m    226\u001b[0m     \u001b[38;5;28;01mif\u001b[39;00m current_ndx \u001b[38;5;241m==\u001b[39m print_ndx:\n\u001b[0;32m    227\u001b[0m         \u001b[38;5;66;03m# ... <1>\u001b[39;00m\n",
      "File \u001b[1;32mc:\\Users\\irath\\anaconda3\\envs\\cancerdetect\\lib\\site-packages\\torch\\utils\\data\\dataloader.py:631\u001b[0m, in \u001b[0;36m_BaseDataLoaderIter.__next__\u001b[1;34m(self)\u001b[0m\n\u001b[0;32m    628\u001b[0m \u001b[38;5;28;01mif\u001b[39;00m \u001b[38;5;28mself\u001b[39m\u001b[38;5;241m.\u001b[39m_sampler_iter \u001b[38;5;129;01mis\u001b[39;00m \u001b[38;5;28;01mNone\u001b[39;00m:\n\u001b[0;32m    629\u001b[0m     \u001b[38;5;66;03m# TODO(https://github.com/pytorch/pytorch/issues/76750)\u001b[39;00m\n\u001b[0;32m    630\u001b[0m     \u001b[38;5;28mself\u001b[39m\u001b[38;5;241m.\u001b[39m_reset()  \u001b[38;5;66;03m# type: ignore[call-arg]\u001b[39;00m\n\u001b[1;32m--> 631\u001b[0m data \u001b[38;5;241m=\u001b[39m \u001b[38;5;28;43mself\u001b[39;49m\u001b[38;5;241;43m.\u001b[39;49m\u001b[43m_next_data\u001b[49m\u001b[43m(\u001b[49m\u001b[43m)\u001b[49m\n\u001b[0;32m    632\u001b[0m \u001b[38;5;28mself\u001b[39m\u001b[38;5;241m.\u001b[39m_num_yielded \u001b[38;5;241m+\u001b[39m\u001b[38;5;241m=\u001b[39m \u001b[38;5;241m1\u001b[39m\n\u001b[0;32m    633\u001b[0m \u001b[38;5;28;01mif\u001b[39;00m \u001b[38;5;28mself\u001b[39m\u001b[38;5;241m.\u001b[39m_dataset_kind \u001b[38;5;241m==\u001b[39m _DatasetKind\u001b[38;5;241m.\u001b[39mIterable \u001b[38;5;129;01mand\u001b[39;00m \\\n\u001b[0;32m    634\u001b[0m         \u001b[38;5;28mself\u001b[39m\u001b[38;5;241m.\u001b[39m_IterableDataset_len_called \u001b[38;5;129;01mis\u001b[39;00m \u001b[38;5;129;01mnot\u001b[39;00m \u001b[38;5;28;01mNone\u001b[39;00m \u001b[38;5;129;01mand\u001b[39;00m \\\n\u001b[0;32m    635\u001b[0m         \u001b[38;5;28mself\u001b[39m\u001b[38;5;241m.\u001b[39m_num_yielded \u001b[38;5;241m>\u001b[39m \u001b[38;5;28mself\u001b[39m\u001b[38;5;241m.\u001b[39m_IterableDataset_len_called:\n",
      "File \u001b[1;32mc:\\Users\\irath\\anaconda3\\envs\\cancerdetect\\lib\\site-packages\\torch\\utils\\data\\dataloader.py:1346\u001b[0m, in \u001b[0;36m_MultiProcessingDataLoaderIter._next_data\u001b[1;34m(self)\u001b[0m\n\u001b[0;32m   1344\u001b[0m \u001b[38;5;28;01melse\u001b[39;00m:\n\u001b[0;32m   1345\u001b[0m     \u001b[38;5;28;01mdel\u001b[39;00m \u001b[38;5;28mself\u001b[39m\u001b[38;5;241m.\u001b[39m_task_info[idx]\n\u001b[1;32m-> 1346\u001b[0m     \u001b[38;5;28;01mreturn\u001b[39;00m \u001b[38;5;28;43mself\u001b[39;49m\u001b[38;5;241;43m.\u001b[39;49m\u001b[43m_process_data\u001b[49m\u001b[43m(\u001b[49m\u001b[43mdata\u001b[49m\u001b[43m)\u001b[49m\n",
      "File \u001b[1;32mc:\\Users\\irath\\anaconda3\\envs\\cancerdetect\\lib\\site-packages\\torch\\utils\\data\\dataloader.py:1372\u001b[0m, in \u001b[0;36m_MultiProcessingDataLoaderIter._process_data\u001b[1;34m(self, data)\u001b[0m\n\u001b[0;32m   1370\u001b[0m \u001b[38;5;28mself\u001b[39m\u001b[38;5;241m.\u001b[39m_try_put_index()\n\u001b[0;32m   1371\u001b[0m \u001b[38;5;28;01mif\u001b[39;00m \u001b[38;5;28misinstance\u001b[39m(data, ExceptionWrapper):\n\u001b[1;32m-> 1372\u001b[0m     \u001b[43mdata\u001b[49m\u001b[38;5;241;43m.\u001b[39;49m\u001b[43mreraise\u001b[49m\u001b[43m(\u001b[49m\u001b[43m)\u001b[49m\n\u001b[0;32m   1373\u001b[0m \u001b[38;5;28;01mreturn\u001b[39;00m data\n",
      "File \u001b[1;32mc:\\Users\\irath\\anaconda3\\envs\\cancerdetect\\lib\\site-packages\\torch\\_utils.py:705\u001b[0m, in \u001b[0;36mExceptionWrapper.reraise\u001b[1;34m(self)\u001b[0m\n\u001b[0;32m    701\u001b[0m \u001b[38;5;28;01mexcept\u001b[39;00m \u001b[38;5;167;01mTypeError\u001b[39;00m:\n\u001b[0;32m    702\u001b[0m     \u001b[38;5;66;03m# If the exception takes multiple arguments, don't try to\u001b[39;00m\n\u001b[0;32m    703\u001b[0m     \u001b[38;5;66;03m# instantiate since we don't know how to\u001b[39;00m\n\u001b[0;32m    704\u001b[0m     \u001b[38;5;28;01mraise\u001b[39;00m \u001b[38;5;167;01mRuntimeError\u001b[39;00m(msg) \u001b[38;5;28;01mfrom\u001b[39;00m \u001b[38;5;28;01mNone\u001b[39;00m\n\u001b[1;32m--> 705\u001b[0m \u001b[38;5;28;01mraise\u001b[39;00m exception\n",
      "\u001b[1;31mDatabaseError\u001b[0m: Caught DatabaseError in DataLoader worker process 1.\nOriginal Traceback (most recent call last):\n  File \"c:\\Users\\irath\\anaconda3\\envs\\cancerdetect\\lib\\site-packages\\torch\\utils\\data\\_utils\\worker.py\", line 308, in _worker_loop\n    data = fetcher.fetch(index)  # type: ignore[possibly-undefined]\n  File \"c:\\Users\\irath\\anaconda3\\envs\\cancerdetect\\lib\\site-packages\\torch\\utils\\data\\_utils\\fetch.py\", line 51, in fetch\n    data = [self.dataset[idx] for idx in possibly_batched_index]\n  File \"c:\\Users\\irath\\anaconda3\\envs\\cancerdetect\\lib\\site-packages\\torch\\utils\\data\\_utils\\fetch.py\", line 51, in <listcomp>\n    data = [self.dataset[idx] for idx in possibly_batched_index]\n  File \"e:\\deeplearningwithpytorch\\book_project\\dsets.py\", line 312, in __getitem__\n    candidate_a, center_irc = getCtRawCandidate(\n  File \"c:\\Users\\irath\\anaconda3\\envs\\cancerdetect\\lib\\site-packages\\diskcache\\core.py\", line 1872, in wrapper\n    result = self.get(key, default=ENOVAL, retry=True)\n  File \"c:\\Users\\irath\\anaconda3\\envs\\cancerdetect\\lib\\site-packages\\diskcache\\fanout.py\", line 285, in get\n    return shard.get(key, default, read, expire_time, tag, retry)\n  File \"c:\\Users\\irath\\anaconda3\\envs\\cancerdetect\\lib\\site-packages\\diskcache\\core.py\", line 1165, in get\n    rows = self._sql(select, (db_key, raw, time.time())).fetchall()\nsqlite3.DatabaseError: database disk image is malformed\n"
     ]
    }
   ],
   "source": [
    "run('training.LunaTrainingApp', f'--epochs={11}', '--balanced', 'balanced')"
   ]
  },
  {
   "cell_type": "code",
   "execution_count": null,
   "metadata": {},
   "outputs": [],
   "source": [
    "run('training.LunaTrainingApp', f'--epochs={11}', '--balanced', '--augment-flip', 'flip')"
   ]
  },
  {
   "cell_type": "code",
   "execution_count": null,
   "metadata": {},
   "outputs": [],
   "source": [
    "run('training.LunaTrainingApp', f'--epochs={11}', '--balanced', '--augment-offset', 'offset')"
   ]
  },
  {
   "cell_type": "code",
   "execution_count": null,
   "metadata": {},
   "outputs": [],
   "source": [
    "run('training.LunaTrainingApp', f'--epochs={11}', '--balanced', '--augment-scale', 'scale')"
   ]
  },
  {
   "cell_type": "code",
   "execution_count": null,
   "metadata": {},
   "outputs": [],
   "source": [
    "run('training.LunaTrainingApp', f'--epochs={11}', '--balanced', '--augment-rotate', 'rotate')"
   ]
  },
  {
   "cell_type": "code",
   "execution_count": null,
   "metadata": {},
   "outputs": [],
   "source": [
    "run('training.LunaTrainingApp', f'--epochs={11}', '--balanced', '--augment-noise', 'noise')"
   ]
  },
  {
   "cell_type": "code",
   "execution_count": null,
   "metadata": {},
   "outputs": [],
   "source": [
    "run('training.LunaTrainingApp', f'--epochs={11}', '--balanced', '--augmented', 'fully-augmented')"
   ]
  },
  {
   "cell_type": "code",
   "execution_count": null,
   "metadata": {},
   "outputs": [],
   "source": []
  }
 ],
 "metadata": {
  "kernelspec": {
   "display_name": "pytorch_env",
   "language": "python",
   "name": "python3"
  },
  "language_info": {
   "codemirror_mode": {
    "name": "ipython",
    "version": 3
   },
   "file_extension": ".py",
   "mimetype": "text/x-python",
   "name": "python",
   "nbconvert_exporter": "python",
   "pygments_lexer": "ipython3",
   "version": "3.8.19"
  }
 },
 "nbformat": 4,
 "nbformat_minor": 2
}
